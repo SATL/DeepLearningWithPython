{
  "nbformat": 4,
  "nbformat_minor": 0,
  "metadata": {
    "colab": {
      "name": "CP2-MNIST.ipynb",
      "version": "0.3.2",
      "provenance": [],
      "collapsed_sections": []
    },
    "kernelspec": {
      "name": "python3",
      "display_name": "Python 3"
    }
  },
  "cells": [
    {
      "cell_type": "markdown",
      "metadata": {
        "id": "1OMM9HoY940Q",
        "colab_type": "text"
      },
      "source": [
        "# MNIST Keras"
      ]
    },
    {
      "cell_type": "markdown",
      "metadata": {
        "id": "4jF4SQHu982o",
        "colab_type": "text"
      },
      "source": [
        "### Load Data"
      ]
    },
    {
      "cell_type": "code",
      "metadata": {
        "id": "oJ2sonkt7gWH",
        "colab_type": "code",
        "colab": {
          "base_uri": "https://localhost:8080/",
          "height": 34
        },
        "outputId": "0c725e47-3bf4-4c06-b9d0-de41c782ffc2"
      },
      "source": [
        "from keras.datasets import mnist\n",
        "(train_images, train_labels), (test_images, test_labels)= mnist.load_data()"
      ],
      "execution_count": 1,
      "outputs": [
        {
          "output_type": "stream",
          "text": [
            "Using TensorFlow backend.\n"
          ],
          "name": "stderr"
        }
      ]
    },
    {
      "cell_type": "code",
      "metadata": {
        "id": "KDzjxWMm8LTA",
        "colab_type": "code",
        "outputId": "ba22e242-799c-400b-f2d9-d30701fe6e65",
        "colab": {
          "base_uri": "https://localhost:8080/",
          "height": 68
        }
      },
      "source": [
        "print(train_images.shape)\n",
        "print(len(train_labels))\n",
        "train_labels"
      ],
      "execution_count": 2,
      "outputs": [
        {
          "output_type": "stream",
          "text": [
            "(60000, 28, 28)\n",
            "60000\n"
          ],
          "name": "stdout"
        },
        {
          "output_type": "execute_result",
          "data": {
            "text/plain": [
              "array([5, 0, 4, ..., 5, 6, 8], dtype=uint8)"
            ]
          },
          "metadata": {
            "tags": []
          },
          "execution_count": 2
        }
      ]
    },
    {
      "cell_type": "code",
      "metadata": {
        "id": "VDYCPuLo8Pth",
        "colab_type": "code",
        "outputId": "43a7bff1-1d40-46ef-ecee-4bcfdb2064fe",
        "colab": {
          "base_uri": "https://localhost:8080/",
          "height": 34
        }
      },
      "source": [
        "len(test_labels)"
      ],
      "execution_count": 3,
      "outputs": [
        {
          "output_type": "execute_result",
          "data": {
            "text/plain": [
              "10000"
            ]
          },
          "metadata": {
            "tags": []
          },
          "execution_count": 3
        }
      ]
    },
    {
      "cell_type": "markdown",
      "metadata": {
        "id": "GWpZan8Z_Jxo",
        "colab_type": "text"
      },
      "source": [
        "### Display"
      ]
    },
    {
      "cell_type": "code",
      "metadata": {
        "id": "HigVjFND_Dw2",
        "colab_type": "code",
        "outputId": "00a27ff0-1d81-4b17-91f4-fdb775aa3a74",
        "colab": {
          "base_uri": "https://localhost:8080/",
          "height": 286
        }
      },
      "source": [
        "import matplotlib.pyplot as plt\n",
        "\n",
        "print(train_images.dtype)\n",
        "digit = train_images[4]\n",
        "plt.imshow(digit, cmap=plt.cm.binary)\n",
        "plt.show()\n"
      ],
      "execution_count": 4,
      "outputs": [
        {
          "output_type": "stream",
          "text": [
            "uint8\n"
          ],
          "name": "stdout"
        },
        {
          "output_type": "display_data",
          "data": {
            "image/png": "[encoded data removed]",
            "text/plain": [
              "<Figure size 432x288 with 1 Axes>"
            ]
          },
          "metadata": {
            "tags": []
          }
        }
      ]
    },
    {
      "cell_type": "markdown",
      "metadata": {
        "id": "rjrPCl3_-C3n",
        "colab_type": "text"
      },
      "source": [
        "### Create Network"
      ]
    },
    {
      "cell_type": "code",
      "metadata": {
        "id": "8WckFk6w9Arm",
        "colab_type": "code",
        "colab": {
          "base_uri": "https://localhost:8080/",
          "height": 88
        },
        "outputId": "ce19c95b-0093-46dc-bdbe-6eab6c719e68"
      },
      "source": [
        "from keras import models\n",
        "from keras import layers\n",
        "\n",
        "\n",
        "network = models.Sequential()\n",
        "network.add(layers.Dense(512, activation='relu', input_shape=(28*28,)))\n",
        "network.add(layers.Dense(10, activation='softmax'))\n"
      ],
      "execution_count": 5,
      "outputs": [
        {
          "output_type": "stream",
          "text": [
            "WARNING:tensorflow:From /usr/local/lib/python3.6/dist-packages/tensorflow/python/framework/op_def_library.py:263: colocate_with (from tensorflow.python.framework.ops) is deprecated and will be removed in a future version.\n",
            "Instructions for updating:\n",
            "Colocations handled automatically by placer.\n"
          ],
          "name": "stdout"
        }
      ]
    },
    {
      "cell_type": "code",
      "metadata": {
        "id": "sC3IUPRP9SW6",
        "colab_type": "code",
        "colab": {}
      },
      "source": [
        "network.compile( optimizer='rmsprop', loss='categorical_crossentropy', metrics=['accuracy'])"
      ],
      "execution_count": 0,
      "outputs": []
    },
    {
      "cell_type": "markdown",
      "metadata": {
        "id": "r_5PrqmH-H5m",
        "colab_type": "text"
      },
      "source": [
        "### Prepare data"
      ]
    },
    {
      "cell_type": "code",
      "metadata": {
        "id": "ZKFa0Hh493m0",
        "colab_type": "code",
        "colab": {}
      },
      "source": [
        "train_images = train_images.reshape((60000, 28*28))\n",
        "train_images = train_images.astype('float32') / 255\n",
        "\n",
        "test_images = test_images.reshape((10000, 28*28))\n",
        "test_images = test_images.astype('float32') / 255"
      ],
      "execution_count": 0,
      "outputs": []
    },
    {
      "cell_type": "code",
      "metadata": {
        "id": "jm4lxpBC-c4F",
        "colab_type": "code",
        "colab": {}
      },
      "source": [
        "from keras.utils import to_categorical\n",
        "\n",
        "train_labels = to_categorical(train_labels)\n",
        "test_labels = to_categorical(test_labels)"
      ],
      "execution_count": 0,
      "outputs": []
    },
    {
      "cell_type": "markdown",
      "metadata": {
        "id": "aH6tFwjf-oge",
        "colab_type": "text"
      },
      "source": [
        "### Train Network"
      ]
    },
    {
      "cell_type": "code",
      "metadata": {
        "id": "u-uypvAn-nsu",
        "colab_type": "code",
        "outputId": "e755ec9b-7462-4a35-d9eb-fdc89f014173",
        "colab": {
          "base_uri": "https://localhost:8080/",
          "height": 275
        }
      },
      "source": [
        "network.fit(train_images, train_labels, epochs=5, batch_size=128)"
      ],
      "execution_count": 9,
      "outputs": [
        {
          "output_type": "stream",
          "text": [
            "WARNING:tensorflow:From /usr/local/lib/python3.6/dist-packages/tensorflow/python/ops/math_ops.py:3066: to_int32 (from tensorflow.python.ops.math_ops) is deprecated and will be removed in a future version.\n",
            "Instructions for updating:\n",
            "Use tf.cast instead.\n",
            "Epoch 1/5\n",
            "60000/60000 [==============================] - 5s 90us/step - loss: 0.2600 - acc: 0.9248\n",
            "Epoch 2/5\n",
            "60000/60000 [==============================] - 5s 88us/step - loss: 0.1051 - acc: 0.9692\n",
            "Epoch 3/5\n",
            "60000/60000 [==============================] - 5s 87us/step - loss: 0.0695 - acc: 0.9790\n",
            "Epoch 4/5\n",
            "60000/60000 [==============================] - 5s 88us/step - loss: 0.0506 - acc: 0.9850\n",
            "Epoch 5/5\n",
            "60000/60000 [==============================] - 5s 88us/step - loss: 0.0386 - acc: 0.9882\n"
          ],
          "name": "stdout"
        },
        {
          "output_type": "execute_result",
          "data": {
            "text/plain": [
              "<keras.callbacks.History at 0x7fa1c6d191d0>"
            ]
          },
          "metadata": {
            "tags": []
          },
          "execution_count": 9
        }
      ]
    },
    {
      "cell_type": "markdown",
      "metadata": {
        "id": "6Wq5PtIA-5Xm",
        "colab_type": "text"
      },
      "source": [
        "### Evaluate network"
      ]
    },
    {
      "cell_type": "code",
      "metadata": {
        "id": "hUWmkyNE-x-3",
        "colab_type": "code",
        "colab": {
          "base_uri": "https://localhost:8080/",
          "height": 51
        },
        "outputId": "86824753-d9a1-49d6-9b96-47ea456218a1"
      },
      "source": [
        "test_loss, test_acc = network.evaluate(test_images, test_labels)\n",
        "print('test_acc', test_acc)\n"
      ],
      "execution_count": 10,
      "outputs": [
        {
          "output_type": "stream",
          "text": [
            "10000/10000 [==============================] - 1s 53us/step\n",
            "test_acc 0.9788\n"
          ],
          "name": "stdout"
        }
      ]
    },
    {
      "cell_type": "code",
      "metadata": {
        "id": "VN1VT8VX_5xY",
        "colab_type": "code",
        "colab": {
          "base_uri": "https://localhost:8080/",
          "height": 51
        },
        "outputId": "a8189fac-de97-4227-b448-9c695f3df574"
      },
      "source": [
        "import numpy as np\n",
        "#predict = network.predict(  np.array( [ test_images[4], ] ) )\n",
        "x = test_images[4]\n",
        "x = np.expand_dims(x, axis=0)\n",
        "predict = network.predict(x)[0]\n",
        "\n",
        "bestclass = ''\n",
        "bestconf = -1\n",
        "for n in [0,1,2,3,4,5,6,7,8,9]:\n",
        "\tif (predict[n] > bestconf):\n",
        "\t\tbestclass = str(n)\n",
        "\t\tbestconf = predict[n]\n",
        "    \n",
        "print(\"Label\", test_labels[4])\n",
        "print ('I think this digit is a ' + bestclass + ' with ' + str(bestconf * 100) + '% confidence.')"
      ],
      "execution_count": 26,
      "outputs": [
        {
          "output_type": "stream",
          "text": [
            "Label [0. 0. 0. 0. 1. 0. 0. 0. 0. 0.]\n",
            "I think this digit is a 4 with 99.9305009841919% confidence.\n"
          ],
          "name": "stdout"
        }
      ]
    }
  ]
}